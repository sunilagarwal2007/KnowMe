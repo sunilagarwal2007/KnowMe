{
 "cells": [
  {
   "cell_type": "code",
   "execution_count": 11,
   "metadata": {},
   "outputs": [],
   "source": [
    "import os\n",
    "import itertools\n",
    "from sklearn.svm import SVC\n",
    "from joblib import dump, load\n",
    "from sklearn.model_selection import train_test_split\n",
    "from sklearn.metrics import accuracy_score\n",
    "import ExtractFeatures as extract\n",
    "import categorize\n",
    "from flask import Flask, jsonify, render_template"
   ]
  },
  {
   "cell_type": "code",
   "execution_count": 6,
   "metadata": {},
   "outputs": [],
   "source": [
    "clf_emotional_stability = load('knowme_EmotionalSt.joblib')\n",
    "clf_knowme_MentalE_WlPower = load('knowme_MentalE_WlPower.joblib')\n",
    "clf_knowme_Modesty = load('knowme_Modesty.joblib')\n",
    "clf_lackOfDiscipline = load('lackOfDiscipline.joblib')\n",
    "clf_PoorConcentration = load('PoorConcentration.joblib')\n",
    "clf_SocialIsolation = load('SocialIsolation.joblib')\n",
    "# clf_emotional_stability = load('knowme_EmotionalSt.joblib')"
   ]
  },
  {
   "cell_type": "code",
   "execution_count": 13,
   "metadata": {},
   "outputs": [
    {
     "name": "stdout",
     "output_type": "stream",
     "text": [
      "(4032, 3024, 3)\n",
      "Average pen pressure: 162.9078910418422\n",
      "-0.0\n",
      "-0.8151288628578186\n",
      "0.38712310791015625\n",
      "0.07450103759765625\n",
      "average_positive_angle: 0.23081207275390625\n",
      "average_negative_angle: -0.4075644314289093\n",
      "average_angle: -0.4075644314289093\n",
      "Average baseline angle: -0.08837617933750153\n",
      "Average letter size: 1129.0\n",
      "Top margin relative to average letter size: 0.3516386182462356\n",
      "Average line spacing relative to average letter size: 0.0732211396516091\n",
      "Baseline Angle: STRAIGHT\n",
      "Top Margin: NARROW\n",
      "Letter Size: BIG\n",
      "Line Spacing: SMALL\n",
      "Word Spacing: SMALL\n",
      "Pen Pressure: MEDIUM\n",
      "Slant: EXTREMELY RECLINED\n"
     ]
    }
   ],
   "source": [
    "# while True:\n",
    "#         file_name = input(\"Enter file name to predict or z to exit: \")\n",
    "#         if file_name == 'z':\n",
    "#             break\n",
    "        file_name =\"/Michael_HW.png\"  \n",
    "        raw_features = extract.start(file_name)\n",
    "        \n",
    "        raw_baseline_angle = raw_features[0]\n",
    "        baseline_angle, comment = categorize.determine_baseline_angle(raw_baseline_angle)\n",
    "        print (\"Baseline Angle: \"+comment)\n",
    "        \n",
    "        raw_top_margin = raw_features[1]\n",
    "        top_margin, comment = categorize.determine_top_margin(raw_top_margin)\n",
    "        print(\"Top Margin: \"+comment)\n",
    "        \n",
    "        raw_letter_size = raw_features[2]\n",
    "        letter_size, comment = categorize.determine_letter_size(raw_letter_size)\n",
    "        print (\"Letter Size: \"+comment)\n",
    "        \n",
    "        raw_line_spacing = raw_features[3]\n",
    "        line_spacing, comment = categorize.determine_line_spacing(raw_line_spacing)\n",
    "        print (\"Line Spacing: \"+comment)\n",
    "        \n",
    "        raw_word_spacing = raw_features[4]\n",
    "        word_spacing, comment = categorize.determine_word_spacing(raw_word_spacing)\n",
    "        print (\"Word Spacing: \"+comment)\n",
    "        \n",
    "        raw_pen_pressure = raw_features[5]\n",
    "        pen_pressure, comment = categorize.determine_pen_pressure(raw_pen_pressure)\n",
    "        print (\"Pen Pressure: \"+comment)\n",
    "        \n",
    "        raw_slant_angle = raw_features[6]\n",
    "        slant_angle, comment = categorize.determine_slant_angle(raw_slant_angle)\n",
    "        print (\"Slant: \"+comment)\n",
    "        \n",
    "#         print (\"Emotional Stability: \", clf_emotional_stability.predict([[baseline_angle, slant_angle]]))\n",
    "#         print (\"Mental Energy or Will Power: \", clf_knowme_MentalE_WlPower.predict([[letter_size, pen_pressure]]))\n",
    "#         print (\"Modesty: \", clf_knowme_Modesty.predict([[letter_size, top_margin]]))\n",
    "#         # print (\"Personal Harmony and Flexibility: \", clf4.predict([[line_spacing, word_spacing]]))\n",
    "#         print (\"Lack of Discipline: \", clf_lackOfDiscipline.predict([[slant_angle, top_margin]]))\n",
    "#         print (\"Poor Concentration: \", clf_PoorConcentration.predict([[letter_size, line_spacing]]))\n",
    "#         # print (\"Non Communicativeness: \", clf7.predict([[letter_size, word_spacing]]))\n",
    "#         print (\"Social Isolation: \", clf_SocialIsolation.predict([[line_spacing, word_spacing]]))\n",
    "#         print (\"---------------------------------------------------\")\n",
    "        \n",
    "        emotional_stability= clf_emotional_stability.predict([[baseline_angle, slant_angle]])\n",
    "        MentalE_WlPower = clf_knowme_MentalE_WlPower.predict([[letter_size, pen_pressure]])\n",
    "        Modesty = clf_knowme_Modesty.predict([[letter_size, top_margin]])\n",
    "        lackOfDiscipline= clf_lackOfDiscipline.predict([[slant_angle, top_margin]])\n",
    "        PoorConcentration= clf_PoorConcentration.predict([[letter_size, line_spacing]])\n",
    "        SocialIsolation= clf_SocialIsolation.predict([[line_spacing, word_spacing]])\n",
    "        \n",
    "        \n",
    "        \n",
    "    #=================================================================================================\n",
    "        \n",
    "# else:\n",
    "#     print (\"Error: label_list file not found.\")"
   ]
  },
  {
   "cell_type": "code",
   "execution_count": 18,
   "metadata": {},
   "outputs": [
    {
     "name": "stdout",
     "output_type": "stream",
     "text": [
      "{'Emotional_Stability: ': 1, 'Mental_Power': 1.0, 'Modesty': 0.0, 'Discipline': 0.0, 'Concentration': 1.0, 'Social_Isolation': 0.0}\n"
     ]
    }
   ],
   "source": [
    "personality_Trait_dict = {\n",
    "        \"Emotional_Stability: \": emotional_stability[0],\n",
    "        \"Mental_Power\": MentalE_WlPower[0],\n",
    "        \"Modesty\": Modesty[0],\n",
    "        \"Discipline\": lackOfDiscipline[0],\n",
    "        \"Concentration\": PoorConcentration[0],\n",
    "        \"Social_Isolation\": SocialIsolation[0]\n",
    "        }\n",
    "print(personality_Trait_dict)"
   ]
  },
  {
   "cell_type": "code",
   "execution_count": null,
   "metadata": {},
   "outputs": [],
   "source": []
  }
 ],
 "metadata": {
  "kernelspec": {
   "display_name": "Python 3",
   "language": "python",
   "name": "python3"
  },
  "language_info": {
   "codemirror_mode": {
    "name": "ipython",
    "version": 3
   },
   "file_extension": ".py",
   "mimetype": "text/x-python",
   "name": "python",
   "nbconvert_exporter": "python",
   "pygments_lexer": "ipython3",
   "version": "3.6.10"
  }
 },
 "nbformat": 4,
 "nbformat_minor": 4
}
